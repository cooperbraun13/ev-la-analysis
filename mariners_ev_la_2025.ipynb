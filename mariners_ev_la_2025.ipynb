{
 "cells": [
  {
   "cell_type": "markdown",
   "id": "2f96dfa1",
   "metadata": {},
   "source": [
    "## Predicting P(hit) from Exit Velocity and Launch Angle\n",
    "\n",
    "The goal of this project is to build a simple model that estimates the probability of a hit, **P(hit)**, from a batted ball's **exit velocity (EV)** and **launch angle (LA)** using Cal Raleigh's May 2025 batted-ball data."
   ]
  },
  {
   "cell_type": "markdown",
   "id": "4b27575c",
   "metadata": {},
   "source": [
    "## 1) Setup\n",
    "\n",
    "We import the core Python libraries we'll be using:\n",
    "\n",
    "* **pandas/numpy** for data handling\n",
    "* **matplotlib** for plotting\n",
    "* **scikit-learn** for modeling with a simple **Logistic Regression** classifier\n",
    "\n",
    "Logistic regression is a natural baseline for binary outcomes (hit vs. not hit). The output is a probability from 0 to 1."
   ]
  },
  {
   "cell_type": "code",
   "execution_count": 2,
   "id": "c623b52a",
   "metadata": {},
   "outputs": [],
   "source": [
    "import pandas as pd\n",
    "import numpy as np\n",
    "import matplotlib.pyplot as plt\n",
    "\n",
    "from sklearn.linear_model import LogisticRegression\n",
    "from sklearn.model_selection import train_test_split\n",
    "from sklearn.metrics import accuracy_score, roc_auc_score, ConfusionMatrixDisplay\n"
   ]
  },
  {
   "cell_type": "markdown",
   "id": "c1f6e7bc",
   "metadata": {},
   "source": [
    "## 2) Load the dataset"
   ]
  },
  {
   "cell_type": "markdown",
   "id": "8e88782a",
   "metadata": {},
   "source": []
  }
 ],
 "metadata": {
  "kernelspec": {
   "display_name": "base",
   "language": "python",
   "name": "python3"
  },
  "language_info": {
   "codemirror_mode": {
    "name": "ipython",
    "version": 3
   },
   "file_extension": ".py",
   "mimetype": "text/x-python",
   "name": "python",
   "nbconvert_exporter": "python",
   "pygments_lexer": "ipython3",
   "version": "3.12.2"
  }
 },
 "nbformat": 4,
 "nbformat_minor": 5
}
